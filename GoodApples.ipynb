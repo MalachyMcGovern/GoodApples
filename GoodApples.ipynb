{
 "cells": [
  {
   "cell_type": "markdown",
   "id": "800b3324-21c0-4ce8-976b-73f6e083aa5d",
   "metadata": {},
   "source": [
    "# Good Apples"
   ]
  },
  {
   "cell_type": "markdown",
   "id": "919dcf87-d423-4dfd-9473-8f34f214be54",
   "metadata": {},
   "source": [
    "## Introduction\n",
    "\n",
    "This dataset was found on kaggle at https://www.kaggle.com/datasets/nelgiriyewithana/apple-quality?resource=download\n",
    "\n",
    "The data describes the different variables that are associated with the evaluation of a 'good' or 'bad' apple. This includes the following variables:\n",
    "\n",
    "1. **A_id**: Unique identifier for each fruit\n",
    "2. **Size**: Size of the fruit\n",
    "3. **Weight**: Weight of the fruit\n",
    "4. **Sweetness**: Degree of sweetness of the fruit\n",
    "5. **Crunchiness**: Texture indicating the crunchiness of the fruit\n",
    "6. **Juiciness**: Level of juiciness of the fruit\n",
    "7. **Ripeness**: Stage of ripeness of the fruit\n",
    "8. **Acidity**: Acidity level of the fruit\n",
    "9. **Quality**: Overall quality of the fruit - **Outcome variable**"
   ]
  },
  {
   "cell_type": "markdown",
   "id": "3fe5ea07-d471-4ffb-8681-b2e4d0134bc5",
   "metadata": {},
   "source": [
    "## Data Preparation"
   ]
  },
  {
   "cell_type": "markdown",
   "id": "6f24212c-72f7-4e89-86f5-c44fabffeac0",
   "metadata": {},
   "source": [
    "#### Importing relevant packages \n"
   ]
  },
  {
   "cell_type": "code",
   "execution_count": 6,
   "id": "4f8c79a3-6baf-4a08-b61f-9da85218f3e3",
   "metadata": {},
   "outputs": [],
   "source": [
    "# Import needed packages\n",
    "import numpy as np\n",
    "import pandas as pd\n",
    "import matplotlib.pyplot as plt\n",
    "import seaborn as sns\n",
    "\n",
    "from sklearn.model_selection import train_test_split\n",
    "from sklearn.ensemble import RandomForestClassifier\n",
    "from sklearn.metrics import accuracy_score, confusion_matrix, classification_report\n",
    "\n",
    "# If you're working in Jupyter Notebook, include the following so that plots will display:\n",
    "%matplotlib inline"
   ]
  },
  {
   "cell_type": "markdown",
   "id": "652619e9-0f06-4561-942a-a983993e6411",
   "metadata": {},
   "source": [
    "### Overview on data"
   ]
  },
  {
   "cell_type": "code",
   "execution_count": 18,
   "id": "45ac3446-ad91-492f-a972-475da9af23e0",
   "metadata": {},
   "outputs": [
    {
     "name": "stdout",
     "output_type": "stream",
     "text": [
      "<class 'pandas.core.frame.DataFrame'>\n",
      "RangeIndex: 4001 entries, 0 to 4000\n",
      "Data columns (total 9 columns):\n",
      " #   Column       Non-Null Count  Dtype  \n",
      "---  ------       --------------  -----  \n",
      " 0   A_id         4000 non-null   float64\n",
      " 1   Size         4000 non-null   float64\n",
      " 2   Weight       4000 non-null   float64\n",
      " 3   Sweetness    4000 non-null   float64\n",
      " 4   Crunchiness  4000 non-null   float64\n",
      " 5   Juiciness    4000 non-null   float64\n",
      " 6   Ripeness     4000 non-null   float64\n",
      " 7   Acidity      4001 non-null   object \n",
      " 8   Quality      4000 non-null   object \n",
      "dtypes: float64(7), object(2)\n",
      "memory usage: 281.4+ KB\n"
     ]
    }
   ],
   "source": [
    "df = pd.read_csv('apple_quality.csv')\n",
    "df.info()"
   ]
  },
  {
   "cell_type": "markdown",
   "id": "a8ea96d6-8fb6-416f-9e71-c7763165b50c",
   "metadata": {},
   "source": [
    "#### Dealing with nulls and formatting\n",
    "There is an inconsistency in the data where *acidity* has an extra value. To address this I have located the rows that contain nulls."
   ]
  },
  {
   "cell_type": "code",
   "execution_count": 20,
   "id": "8a40a130-0c82-4a4c-baf4-ee99f8f12a45",
   "metadata": {},
   "outputs": [
    {
     "data": {
      "text/html": [
       "<div>\n",
       "<style scoped>\n",
       "    .dataframe tbody tr th:only-of-type {\n",
       "        vertical-align: middle;\n",
       "    }\n",
       "\n",
       "    .dataframe tbody tr th {\n",
       "        vertical-align: top;\n",
       "    }\n",
       "\n",
       "    .dataframe thead th {\n",
       "        text-align: right;\n",
       "    }\n",
       "</style>\n",
       "<table border=\"1\" class=\"dataframe\">\n",
       "  <thead>\n",
       "    <tr style=\"text-align: right;\">\n",
       "      <th></th>\n",
       "      <th>A_id</th>\n",
       "      <th>Size</th>\n",
       "      <th>Weight</th>\n",
       "      <th>Sweetness</th>\n",
       "      <th>Crunchiness</th>\n",
       "      <th>Juiciness</th>\n",
       "      <th>Ripeness</th>\n",
       "      <th>Acidity</th>\n",
       "      <th>Quality</th>\n",
       "    </tr>\n",
       "  </thead>\n",
       "  <tbody>\n",
       "    <tr>\n",
       "      <th>4000</th>\n",
       "      <td>NaN</td>\n",
       "      <td>NaN</td>\n",
       "      <td>NaN</td>\n",
       "      <td>NaN</td>\n",
       "      <td>NaN</td>\n",
       "      <td>NaN</td>\n",
       "      <td>NaN</td>\n",
       "      <td>Created_by_Nidula_Elgiriyewithana</td>\n",
       "      <td>NaN</td>\n",
       "    </tr>\n",
       "  </tbody>\n",
       "</table>\n",
       "</div>"
      ],
      "text/plain": [
       "      A_id  Size  Weight  Sweetness  Crunchiness  Juiciness  Ripeness  \\\n",
       "4000   NaN   NaN     NaN        NaN          NaN        NaN       NaN   \n",
       "\n",
       "                                Acidity Quality  \n",
       "4000  Created_by_Nidula_Elgiriyewithana     NaN  "
      ]
     },
     "execution_count": 20,
     "metadata": {},
     "output_type": "execute_result"
    }
   ],
   "source": [
    "nan_rows = df[df.isnull().any(axis=1)]\n",
    "nan_rows"
   ]
  },
  {
   "cell_type": "markdown",
   "id": "f1e4d32b-7c1d-4440-8c01-e375f28ed58a",
   "metadata": {},
   "source": [
    "It seems that the final row has a signature from the dataset creator. This will be removed."
   ]
  },
  {
   "cell_type": "code",
   "execution_count": 22,
   "id": "efad84ed-6e09-49e1-85fb-17d0e38fcf9b",
   "metadata": {},
   "outputs": [
    {
     "name": "stdout",
     "output_type": "stream",
     "text": [
      "<class 'pandas.core.frame.DataFrame'>\n",
      "RangeIndex: 4000 entries, 0 to 3999\n",
      "Data columns (total 9 columns):\n",
      " #   Column       Non-Null Count  Dtype  \n",
      "---  ------       --------------  -----  \n",
      " 0   A_id         4000 non-null   float64\n",
      " 1   Size         4000 non-null   float64\n",
      " 2   Weight       4000 non-null   float64\n",
      " 3   Sweetness    4000 non-null   float64\n",
      " 4   Crunchiness  4000 non-null   float64\n",
      " 5   Juiciness    4000 non-null   float64\n",
      " 6   Ripeness     4000 non-null   float64\n",
      " 7   Acidity      4000 non-null   object \n",
      " 8   Quality      4000 non-null   object \n",
      "dtypes: float64(7), object(2)\n",
      "memory usage: 281.4+ KB\n"
     ]
    }
   ],
   "source": [
    "df = df.iloc[0:4000]\n",
    "df.info()"
   ]
  },
  {
   "cell_type": "markdown",
   "id": "9a90d224-8178-4c83-9c02-fd7a2066adff",
   "metadata": {},
   "source": [
    "This data now seems to be consistent but for my OCD I have to make the *A_id* column an integer."
   ]
  },
  {
   "cell_type": "code",
   "execution_count": 26,
   "id": "1811dcdd-795e-4359-8eab-50294712a8d2",
   "metadata": {},
   "outputs": [
    {
     "data": {
      "text/plain": [
       "dtype('int32')"
      ]
     },
     "execution_count": 26,
     "metadata": {},
     "output_type": "execute_result"
    }
   ],
   "source": [
    "df['A_id'] = df['A_id'].astype('int')\n",
    "np.dtype(df['A_id'])"
   ]
  },
  {
   "cell_type": "markdown",
   "id": "76ff31f2-ff42-49a0-ad80-b63551c32eee",
   "metadata": {},
   "source": [
    "### Addressing assumptions"
   ]
  },
  {
   "cell_type": "markdown",
   "id": "9a62dc57-494d-46e3-9c0a-ec1e4dc46290",
   "metadata": {},
   "source": [
    "#### Quality of input features\n",
    "Random Forest assumes that input features are relevant and informative for the prediction task. If features are **noisy, irrelevant, or contain biases**, the model's performance may degrade.\n",
    "\n",
    "This assumption can be evaluated by the concepts that are being incorporated to predict a 'good' or 'bad' apple. **What defines a good apple?** \n",
    "\n",
    "- Is a good apple large? Small? or is there an optimal medium? Is it sweet? Crunchy? Sour? \n",
    "\n",
    "After looking over the variables, it seems that they generally descibe the factors that contribute to an apples quality (subject to personal prefernece of course). The only thing that may be missing is the concept of apple health -  blemishes, wear & tear, rotting,. etc. Though, this is possibly wrapped into other features such as ripeness and crunchiness.\n",
    "\n",
    "**Evaluation - The features appear relevant**"
   ]
  },
  {
   "cell_type": "code",
   "execution_count": 43,
   "id": "135e0da3-cbab-4046-b806-03ee557ed028",
   "metadata": {},
   "outputs": [
    {
     "data": {
      "text/html": [
       "<div>\n",
       "<style scoped>\n",
       "    .dataframe tbody tr th:only-of-type {\n",
       "        vertical-align: middle;\n",
       "    }\n",
       "\n",
       "    .dataframe tbody tr th {\n",
       "        vertical-align: top;\n",
       "    }\n",
       "\n",
       "    .dataframe thead th {\n",
       "        text-align: right;\n",
       "    }\n",
       "</style>\n",
       "<table border=\"1\" class=\"dataframe\">\n",
       "  <thead>\n",
       "    <tr style=\"text-align: right;\">\n",
       "      <th></th>\n",
       "      <th>Size</th>\n",
       "      <th>Weight</th>\n",
       "      <th>Sweetness</th>\n",
       "      <th>Crunchiness</th>\n",
       "      <th>Juiciness</th>\n",
       "      <th>Ripeness</th>\n",
       "      <th>Acidity</th>\n",
       "    </tr>\n",
       "  </thead>\n",
       "  <tbody>\n",
       "    <tr>\n",
       "      <th>Size</th>\n",
       "      <td>1.000000</td>\n",
       "      <td>-0.170702</td>\n",
       "      <td>-0.324680</td>\n",
       "      <td>0.169868</td>\n",
       "      <td>-0.018892</td>\n",
       "      <td>-0.134773</td>\n",
       "      <td>0.196218</td>\n",
       "    </tr>\n",
       "    <tr>\n",
       "      <th>Weight</th>\n",
       "      <td>-0.170702</td>\n",
       "      <td>1.000000</td>\n",
       "      <td>-0.154246</td>\n",
       "      <td>-0.095882</td>\n",
       "      <td>-0.092263</td>\n",
       "      <td>-0.243824</td>\n",
       "      <td>0.016414</td>\n",
       "    </tr>\n",
       "    <tr>\n",
       "      <th>Sweetness</th>\n",
       "      <td>-0.324680</td>\n",
       "      <td>-0.154246</td>\n",
       "      <td>1.000000</td>\n",
       "      <td>-0.037552</td>\n",
       "      <td>0.095882</td>\n",
       "      <td>-0.273800</td>\n",
       "      <td>0.085999</td>\n",
       "    </tr>\n",
       "    <tr>\n",
       "      <th>Crunchiness</th>\n",
       "      <td>0.169868</td>\n",
       "      <td>-0.095882</td>\n",
       "      <td>-0.037552</td>\n",
       "      <td>1.000000</td>\n",
       "      <td>-0.259607</td>\n",
       "      <td>-0.201982</td>\n",
       "      <td>0.069943</td>\n",
       "    </tr>\n",
       "    <tr>\n",
       "      <th>Juiciness</th>\n",
       "      <td>-0.018892</td>\n",
       "      <td>-0.092263</td>\n",
       "      <td>0.095882</td>\n",
       "      <td>-0.259607</td>\n",
       "      <td>1.000000</td>\n",
       "      <td>-0.097144</td>\n",
       "      <td>0.248714</td>\n",
       "    </tr>\n",
       "    <tr>\n",
       "      <th>Ripeness</th>\n",
       "      <td>-0.134773</td>\n",
       "      <td>-0.243824</td>\n",
       "      <td>-0.273800</td>\n",
       "      <td>-0.201982</td>\n",
       "      <td>-0.097144</td>\n",
       "      <td>1.000000</td>\n",
       "      <td>-0.202669</td>\n",
       "    </tr>\n",
       "    <tr>\n",
       "      <th>Acidity</th>\n",
       "      <td>0.196218</td>\n",
       "      <td>0.016414</td>\n",
       "      <td>0.085999</td>\n",
       "      <td>0.069943</td>\n",
       "      <td>0.248714</td>\n",
       "      <td>-0.202669</td>\n",
       "      <td>1.000000</td>\n",
       "    </tr>\n",
       "  </tbody>\n",
       "</table>\n",
       "</div>"
      ],
      "text/plain": [
       "                 Size    Weight  Sweetness  Crunchiness  Juiciness  Ripeness  \\\n",
       "Size         1.000000 -0.170702  -0.324680     0.169868  -0.018892 -0.134773   \n",
       "Weight      -0.170702  1.000000  -0.154246    -0.095882  -0.092263 -0.243824   \n",
       "Sweetness   -0.324680 -0.154246   1.000000    -0.037552   0.095882 -0.273800   \n",
       "Crunchiness  0.169868 -0.095882  -0.037552     1.000000  -0.259607 -0.201982   \n",
       "Juiciness   -0.018892 -0.092263   0.095882    -0.259607   1.000000 -0.097144   \n",
       "Ripeness    -0.134773 -0.243824  -0.273800    -0.201982  -0.097144  1.000000   \n",
       "Acidity      0.196218  0.016414   0.085999     0.069943   0.248714 -0.202669   \n",
       "\n",
       "              Acidity  \n",
       "Size         0.196218  \n",
       "Weight       0.016414  \n",
       "Sweetness    0.085999  \n",
       "Crunchiness  0.069943  \n",
       "Juiciness    0.248714  \n",
       "Ripeness    -0.202669  \n",
       "Acidity      1.000000  "
      ]
     },
     "execution_count": 43,
     "metadata": {},
     "output_type": "execute_result"
    }
   ],
   "source": [
    "predict_corr = df[['Size','Weight','Sweetness','Crunchiness','Juiciness','Ripeness','Acidity']].corr()\n"
   ]
  },
  {
   "cell_type": "markdown",
   "id": "5a405821-12e7-4d86-b33b-8fe9d4ec47f6",
   "metadata": {},
   "source": [
    "#### Balance of data set\n",
    "\n",
    "Random Forest performs well on balanced datasets where each class or target value is adequately represented. Imbalanced datasets can lead to biased models that favor the majority class."
   ]
  },
  {
   "cell_type": "markdown",
   "id": "bd8bbdd5-8fb4-41d6-bb78-52d9ac11a49e",
   "metadata": {},
   "source": [
    "#### Homogeneous feature importance\n",
    "Random Forest assumes that the importance of features remains consistent across the dataset. If feature importance varies significantly across different subsets of data, the model may not generalize well."
   ]
  },
  {
   "cell_type": "markdown",
   "id": "bbf3cb65-1a22-486e-a743-7ca07a4a1787",
   "metadata": {},
   "source": [
    "\n"
   ]
  }
 ],
 "metadata": {
  "kernelspec": {
   "display_name": "Python 3 (ipykernel)",
   "language": "python",
   "name": "python3"
  },
  "language_info": {
   "codemirror_mode": {
    "name": "ipython",
    "version": 3
   },
   "file_extension": ".py",
   "mimetype": "text/x-python",
   "name": "python",
   "nbconvert_exporter": "python",
   "pygments_lexer": "ipython3",
   "version": "3.8.18"
  }
 },
 "nbformat": 4,
 "nbformat_minor": 5
}
